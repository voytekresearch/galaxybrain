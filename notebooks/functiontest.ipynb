{
 "cells": [
  {
   "cell_type": "code",
   "execution_count": 1,
   "metadata": {
    "execution": {
     "iopub.execute_input": "2021-02-17T17:49:43.181871Z",
     "iopub.status.busy": "2021-02-17T17:49:43.180864Z",
     "iopub.status.idle": "2021-02-17T17:49:48.392942Z",
     "shell.execute_reply": "2021-02-17T17:49:48.391570Z",
     "shell.execute_reply.started": "2021-02-17T17:49:43.181710Z"
    }
   },
   "outputs": [],
   "source": [
    "%load_ext autoreload\n",
    "%autoreload 2\n",
    "import numpy as np\n",
    "from scipy import io, signal, stats\n",
    "import sys, os\n",
    "sys.path.append('../')\n",
    "\n",
    "import pandas as pd\n",
    "from sklearn.decomposition import PCA\n",
    "import fooof\n",
    "from fooof import FOOOFGroup\n",
    "from seaborn import despine\n",
    "import matplotlib.pyplot as plt\n",
    "\n",
    "from galaxybrain.data_utils import load_mouse_data, return_pops\n",
    "from galaxybrain import ramsey\n",
    "from neurodsp.spectral import compute_spectrum\n",
    "\n",
    "import warnings\n",
    "np.warnings.filterwarnings('ignore', category=np.VisibleDeprecationWarning)\n",
    "\n",
    "from galaxybrain import analysis_pipe"
   ]
  },
  {
   "cell_type": "code",
   "execution_count": 7,
   "metadata": {
    "execution": {
     "iopub.execute_input": "2021-02-16T00:04:07.822099Z",
     "iopub.status.busy": "2021-02-16T00:04:07.821337Z",
     "iopub.status.idle": "2021-02-16T00:05:03.975871Z",
     "shell.execute_reply": "2021-02-16T00:05:03.973768Z",
     "shell.execute_reply.started": "2021-02-16T00:04:07.821771Z"
    }
   },
   "outputs": [
    {
     "name": "stdout",
     "output_type": "stream",
     "text": [
      "Mouse 1\n",
      "Grabbing Spikes...\n",
      "Binning Spikes...\n",
      "[('CP', 176), ('FrMoCtx', 78), ('HPF', 265), ('LS', 122), ('MB', 127), ('SC', 42), ('SomMoCtx', 91), ('TH', 227), ('V1', 334)] Total: 1462\n",
      "Mouse 2\n",
      "Grabbing Spikes...\n",
      "Binning Spikes...\n",
      "[('FrCtx', 31), ('FrMoCtx', 647), ('HPF', 333), ('LS', 133), ('MB', 40), ('RSP', 112), ('SC', 98), ('SSCtx', 50), ('SomMoCtx', 220), ('TH', 638), ('UNK', 11), ('V1', 251), ('V2', 124)] Total: 2688\n",
      "Mouse 3\n",
      "Grabbing Spikes...\n",
      "Binning Spikes...\n",
      "[('CP', 134), ('FrMoCtx', 86), ('HPF', 155), ('LH', 4), ('LS', 4), ('RSP', 10), ('SomMoCtx', 10), ('TH', 1878), ('UNK', 15)] Total: 2296\n"
     ]
    }
   ],
   "source": [
    "datafolder = '../data/spikes/' #where the mouse data is\n",
    "all_mice = []\n",
    "for i_m in range(3):\n",
    "    print('Mouse ' + (str(i_m+1)))\n",
    "    all_mice.append([])\n",
    "    df_spk, df_info = load_mouse_data(datafolder, i_m, return_type='binned', bin_width=1)\n",
    "    region_indices = {}\n",
    "    for region in df_info.region.unique():\n",
    "        region_indices.update({region:np.where(df_info['region'] == str(region))[0]})\n",
    "\n",
    "    spk_list, region_labels = return_pops(df_spk, df_info)\n",
    "    print(list(zip(region_labels, [s.shape[1] for s in spk_list])), 'Total:',sum([s.shape[1] for s in spk_list]))\n",
    "\n",
    "    su_start_ind = len(region_labels)+1\n",
    "\n",
    "    all_mice[i_m].append(df_spk[df_spk.columns[su_start_ind:]])\n",
    "    all_mice[i_m].append(region_indices)\n",
    "\n",
    "krebs = all_mice[0]; robbins = all_mice[1]; waksman = all_mice[2]\n",
    "\n",
    "mice_regions = {'krebs': [krebs, [('all', 1462), ('CP', 176), ('HPF', 265), ('LS', 122), ('MB', 127), ('TH', 227), ('V1', 334)]],\n",
    "            'robbins': [robbins, [('all', 2688), ('FrMoCtx', 647), ('HPF', 333), ('LS', 133), ('RSP', 112), ('SomMoCtx', 220), ('TH', 638), ('V1', 251), ('V2', 124)]],\n",
    "            'waksman': [waksman, [('all', 2296), ('CP', 134), ('HPF', 155), ('TH', 1878)]] }"
   ]
  },
  {
   "cell_type": "code",
   "execution_count": null,
   "metadata": {
    "execution": {
     "iopub.execute_input": "2021-02-16T02:34:54.352856Z",
     "iopub.status.busy": "2021-02-16T02:34:54.352079Z",
     "iopub.status.idle": "2021-02-16T02:44:35.930924Z",
     "shell.execute_reply": "2021-02-16T02:44:35.929450Z",
     "shell.execute_reply.started": "2021-02-16T02:34:54.352576Z"
    }
   },
   "outputs": [],
   "source": [
    "burn_in = 20\n",
    "output_dir = '../data/experiments/expTEST'\n",
    "ramsey_params = {'n_iters' : 3, 'n_pc' : 0.8, 'f_range' : [0,0.4]}\n",
    "num_trials = 2\n",
    "mouse_in = ['krebs']\n",
    "shuffle = ('space',4)\n",
    "\"\"\"\n",
    "ANALYSIS AS SCRIPT TO DEBUG\n",
    "\"\"\"\n",
    "#analysis + saving data \n",
    "for mouse_key in mouse_in:\n",
    "    mouse = mice_regions[mouse_key][0] #this is the data\n",
    "    for region in mice_regions[mouse_key][1]:\n",
    "\n",
    "        region_name = region[0]; region_count = region[1]\n",
    "        print(region_name)\n",
    "        os.makedirs(f'{output_dir}/{mouse_key}/{region_name}')\n",
    "\n",
    "        if region_name == 'all':\n",
    "            mouse_raster = mouse[0].iloc[burn_in:-burn_in]\n",
    "        else:\n",
    "            mouse_raster = mouse[0][mouse[1][region_name]].iloc[burn_in:-burn_in] #mouse[1] are indices\n",
    "\n",
    "        subsetsizes = np.linspace(30,region_count,16, dtype=int)\n",
    "\n",
    "        if shuffle:\n",
    "            for s in range(shuffle[1]):\n",
    "                curr_raster = analysis_pipe.shuffle_data(mouse_raster, shuffle[0]) \n",
    "                curr_output = {'eigs':[],'pows':[],'pca_m':[],'s_er':[],'ft_m':[],'t_er':[],'psn_r':[], 'spn_r':[], 'psn_p':[], 'spn_p':[]}\n",
    "                curr_output = []\n",
    "                for n in range(num_trials):\n",
    "                    eigs, pows, pca_m, s_er, ft_m, t_er, psn_r, spn_r, psn_p, spn_p = ramsey.ramsey(curr_raster, subsetsizes, **ramsey_params)\n",
    "                    curr_output.append([eigs, pows, pca_m, s_er, ft_m, t_er, psn_r, spn_r, psn_p, spn_p])\n",
    "                # AVG ACROSS TRIALS HERE\n",
    "                curr_output = np.array(curr_output)\n",
    "                np.savez(f'{output_dir}/{mouse_key}/{region_name}/ramsey_{s+1}', eigs=np.array([curr_output[:,0][i] for i in range(num_trials)]).mean(0), # this properly takes the mean over trials\n",
    "                                                                                 pows=np.array([curr_output[:,1][i] for i in range(num_trials)]).mean(0), # ^\n",
    "                                                                                 pca_m=curr_output[:,2].mean(0), space_er=curr_output[:,3].mean(0), \n",
    "                                                                                 ft_m=curr_output[:,4].mean(0), time_er=curr_output[:,5].mean(0), \n",
    "                                                                                 pearson_r=curr_output[:,6].mean(0), spearman_rho=curr_output[:,7].mean(0), \n",
    "                                                                                 pearson_p=curr_output[:,8].mean(0), spearman_p=curr_output[:,9].mean(0))\n",
    "        else:\n",
    "            for i in range(num_trials):\n",
    "                eigs, pows, pca_m, s_er, ft_m, t_er, psn_r, spn_r, psn_p, spn_p = ramsey.ramsey(mouse_raster, subsetsizes, **ramsey_params)\n",
    "                np.savez(f'{output_dir}/{mouse_key}/{region_name}/ramsey_{i+1}', eigs=eigs, pows=pows, pca_m=pca_m, space_er=s_er, ft_m=ft_m, time_er=t_er, pearson_r=psn_r, spearman_rho=spn_r, pearson_p=psn_p, spearman_p=spn_p)"
   ]
  },
  {
   "cell_type": "markdown",
   "metadata": {},
   "source": [
    "## Misc"
   ]
  },
  {
   "cell_type": "code",
   "execution_count": 7,
   "metadata": {},
   "outputs": [],
   "source": [
    "def load_data(files = None, show_dir = False):\n",
    "    \"\"\" Load data from your data folder\n",
    "    If show_dir is True, displays a list of files in your directory.  Omits the extension.\n",
    "    If show_dir is False, assumes input is a string of format 'file1, file2 ...'\n",
    "    Only really works for .csv for now\n",
    "    \"\"\"\n",
    "    l = os.listdir('../data')\n",
    "    l.remove('.DS_Store')\n",
    "    if show_dir == True:\n",
    "        for i, x in enumerate(l):\n",
    "            x = x[:x.index('.')]\n",
    "            l[i] = x\n",
    "        print('Files in ../data: ', l)\n",
    "        files = input(\"Enter file name(s). Separate with commas for multiple files.  Enter 'all' (w/o quotes)  to load all \\n\")\n",
    "        print('Uploading...')\n",
    "        if files == 'all':\n",
    "            for z in l:\n",
    "                globals()[z] = pd.read_csv(\"../data/\"+ z +\".csv\", index_col = 0)\n",
    "            print('Done.')\n",
    "\n",
    "        else:\n",
    "            files = files.split(',')\n",
    "            files = [i.translate({ord(i):None for i in ' '}) for i in files] # takes out spaces\n",
    "\n",
    "            for z in files:\n",
    "                globals()[z] = pd.read_csv(\"../data/\"+ z +\".csv\", index_col = 0)\n",
    "            print('Done.')\n",
    "\n",
    "    if show_dir == False:\n",
    "        print('Uploading...')\n",
    "        if files == 'all':\n",
    "            for z in l:\n",
    "                globals()[z[:z.index('.')]] = pd.read_csv(\"../data/\"+ z, index_col = 0)\n",
    "            print('Done.')\n",
    "        else:\n",
    "            files = files.split(',')\n",
    "            files = [i.translate({ord(i):None for i in ' '}) for i in files] # takes out spaces\n",
    "            for z in files:\n",
    "                globals()[z] = pd.read_csv(\"../data/\"+ z +\".csv\", index_col = 0)\n",
    "            print('Done.')\n"
   ]
  },
  {
   "cell_type": "code",
   "execution_count": null,
   "metadata": {},
   "outputs": [],
   "source": []
  }
 ],
 "metadata": {
  "kernelspec": {
   "display_name": "Python 3",
   "language": "python",
   "name": "python3"
  },
  "language_info": {
   "codemirror_mode": {
    "name": "ipython",
    "version": 3
   },
   "file_extension": ".py",
   "mimetype": "text/x-python",
   "name": "python",
   "nbconvert_exporter": "python",
   "pygments_lexer": "ipython3",
   "version": "3.7.4"
  }
 },
 "nbformat": 4,
 "nbformat_minor": 4
}
