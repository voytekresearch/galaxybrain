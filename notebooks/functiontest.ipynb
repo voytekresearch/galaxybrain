{
 "cells": [
  {
   "cell_type": "code",
   "execution_count": 5,
   "metadata": {
    "execution": {
     "iopub.execute_input": "2021-02-16T00:03:28.206006Z",
     "iopub.status.busy": "2021-02-16T00:03:28.205333Z",
     "iopub.status.idle": "2021-02-16T00:03:28.369105Z",
     "shell.execute_reply": "2021-02-16T00:03:28.364746Z",
     "shell.execute_reply.started": "2021-02-16T00:03:28.205728Z"
    }
   },
   "outputs": [
    {
     "name": "stdout",
     "output_type": "stream",
     "text": [
      "The autoreload extension is already loaded. To reload it, use:\n",
      "  %reload_ext autoreload\n"
     ]
    }
   ],
   "source": [
    "%load_ext autoreload\n",
    "%autoreload 2\n",
    "import numpy as np\n",
    "from scipy import io, signal, stats\n",
    "import sys, os\n",
    "sys.path.append('../')\n",
    "\n",
    "import pandas as pd\n",
    "from sklearn.decomposition import PCA\n",
    "import fooof\n",
    "from fooof import FOOOFGroup\n",
    "from seaborn import despine\n",
    "\n",
    "from galaxybrain.data_utils import load_mouse_data, return_pops\n",
    "from galaxybrain import ramsey\n",
    "from neurodsp.spectral import compute_spectrum\n",
    "\n",
    "import warnings\n",
    "import matplotlib.cbook\n",
    "warnings.filterwarnings(\"ignore\",category=matplotlib.cbook.mplDeprecation)\n",
    "np.warnings.filterwarnings('ignore', category=np.VisibleDeprecationWarning)\n",
    "\n",
    "from galaxybrain import analysis_pipe"
   ]
  },
  {
   "cell_type": "code",
   "execution_count": 7,
   "metadata": {
    "execution": {
     "iopub.execute_input": "2021-02-16T00:04:07.822099Z",
     "iopub.status.busy": "2021-02-16T00:04:07.821337Z",
     "iopub.status.idle": "2021-02-16T00:05:03.975871Z",
     "shell.execute_reply": "2021-02-16T00:05:03.973768Z",
     "shell.execute_reply.started": "2021-02-16T00:04:07.821771Z"
    }
   },
   "outputs": [
    {
     "name": "stdout",
     "output_type": "stream",
     "text": [
      "Mouse 1\n",
      "Grabbing Spikes...\n",
      "Binning Spikes...\n",
      "[('CP', 176), ('FrMoCtx', 78), ('HPF', 265), ('LS', 122), ('MB', 127), ('SC', 42), ('SomMoCtx', 91), ('TH', 227), ('V1', 334)] Total: 1462\n",
      "Mouse 2\n",
      "Grabbing Spikes...\n",
      "Binning Spikes...\n",
      "[('FrCtx', 31), ('FrMoCtx', 647), ('HPF', 333), ('LS', 133), ('MB', 40), ('RSP', 112), ('SC', 98), ('SSCtx', 50), ('SomMoCtx', 220), ('TH', 638), ('UNK', 11), ('V1', 251), ('V2', 124)] Total: 2688\n",
      "Mouse 3\n",
      "Grabbing Spikes...\n",
      "Binning Spikes...\n",
      "[('CP', 134), ('FrMoCtx', 86), ('HPF', 155), ('LH', 4), ('LS', 4), ('RSP', 10), ('SomMoCtx', 10), ('TH', 1878), ('UNK', 15)] Total: 2296\n"
     ]
    }
   ],
   "source": [
    "datafolder = '../data/spikes/' #where the mouse data is\n",
    "all_mice = []\n",
    "for i_m in range(3):\n",
    "    print('Mouse ' + (str(i_m+1)))\n",
    "    all_mice.append([])\n",
    "    df_spk, df_info = load_mouse_data(datafolder, i_m, return_type='binned', bin_width=1)\n",
    "    region_indices = {}\n",
    "    for region in df_info.region.unique():\n",
    "        region_indices.update({region:np.where(df_info['region'] == str(region))[0]})\n",
    "\n",
    "    spk_list, region_labels = return_pops(df_spk, df_info)\n",
    "    print(list(zip(region_labels, [s.shape[1] for s in spk_list])), 'Total:',sum([s.shape[1] for s in spk_list]))\n",
    "\n",
    "    su_start_ind = len(region_labels)+1\n",
    "\n",
    "    all_mice[i_m].append(df_spk[df_spk.columns[su_start_ind:]])\n",
    "    all_mice[i_m].append(region_indices)\n",
    "\n",
    "krebs = all_mice[0]; robbins = all_mice[1]; waksman = all_mice[2]\n",
    "\n",
    "mice_regions = {'krebs': [krebs, [('all', 1462), ('CP', 176), ('HPF', 265), ('LS', 122), ('MB', 127), ('TH', 227), ('V1', 334)]],\n",
    "            'robbins': [robbins, [('all', 2688), ('FrMoCtx', 647), ('HPF', 333), ('LS', 133), ('RSP', 112), ('SomMoCtx', 220), ('TH', 638), ('V1', 251), ('V2', 124)]],\n",
    "            'waksman': [waksman, [('all', 2296), ('CP', 134), ('HPF', 155), ('TH', 1878)]] }"
   ]
  },
  {
   "cell_type": "code",
   "execution_count": 21,
   "metadata": {
    "execution": {
     "iopub.execute_input": "2021-02-16T00:28:19.620729Z",
     "iopub.status.busy": "2021-02-16T00:28:19.619989Z",
     "iopub.status.idle": "2021-02-16T00:29:58.405876Z",
     "shell.execute_reply": "2021-02-16T00:29:58.402475Z",
     "shell.execute_reply.started": "2021-02-16T00:28:19.620419Z"
    }
   },
   "outputs": [
    {
     "name": "stdout",
     "output_type": "stream",
     "text": [
      "all\n"
     ]
    },
    {
     "name": "stderr",
     "output_type": "stream",
     "text": [
      "/Users/brianbarry/opt/anaconda3/lib/python3.7/site-packages/scipy/stats/stats.py:3845: PearsonRConstantInputWarning: An input array is constant; the correlation coefficent is not defined.\n",
      "  warnings.warn(PearsonRConstantInputWarning())\n",
      "/Users/brianbarry/opt/anaconda3/lib/python3.7/site-packages/scipy/stats/stats.py:4196: SpearmanRConstantInputWarning: An input array is constant; the correlation coefficent is not defined.\n",
      "  warnings.warn(SpearmanRConstantInputWarning())\n",
      "/Users/brianbarry/opt/anaconda3/lib/python3.7/site-packages/scipy/stats/stats.py:3845: PearsonRConstantInputWarning: An input array is constant; the correlation coefficent is not defined.\n",
      "  warnings.warn(PearsonRConstantInputWarning())\n",
      "/Users/brianbarry/opt/anaconda3/lib/python3.7/site-packages/scipy/stats/stats.py:4196: SpearmanRConstantInputWarning: An input array is constant; the correlation coefficent is not defined.\n",
      "  warnings.warn(SpearmanRConstantInputWarning())\n"
     ]
    },
    {
     "ename": "TypeError",
     "evalue": "unsupported operand type(s) for /: 'list' and 'int'",
     "output_type": "error",
     "traceback": [
      "\u001b[0;31m---------------------------------------------------------------------------\u001b[0m",
      "\u001b[0;31mTypeError\u001b[0m                                 Traceback (most recent call last)",
      "\u001b[0;32m<ipython-input-21-dc4e7587da1c>\u001b[0m in \u001b[0;36m<module>\u001b[0;34m\u001b[0m\n\u001b[1;32m     34\u001b[0m                 \u001b[0;31m# AVG ACROSS TRIALS HERE\u001b[0m\u001b[0;34m\u001b[0m\u001b[0;34m\u001b[0m\u001b[0;34m\u001b[0m\u001b[0m\n\u001b[1;32m     35\u001b[0m                 \u001b[0mcurr_output\u001b[0m \u001b[0;34m=\u001b[0m \u001b[0mnp\u001b[0m\u001b[0;34m.\u001b[0m\u001b[0marray\u001b[0m\u001b[0;34m(\u001b[0m\u001b[0mcurr_output\u001b[0m\u001b[0;34m)\u001b[0m\u001b[0;34m\u001b[0m\u001b[0;34m\u001b[0m\u001b[0m\n\u001b[0;32m---> 36\u001b[0;31m                 \u001b[0mnp\u001b[0m\u001b[0;34m.\u001b[0m\u001b[0msavez\u001b[0m\u001b[0;34m(\u001b[0m\u001b[0;34mf'{output_dir}/{mouse_key}/{region_name}/ramsey_{s+1}'\u001b[0m\u001b[0;34m,\u001b[0m \u001b[0meigs\u001b[0m\u001b[0;34m=\u001b[0m\u001b[0mcurr_output\u001b[0m\u001b[0;34m[\u001b[0m\u001b[0;34m:\u001b[0m\u001b[0;34m,\u001b[0m\u001b[0;36m0\u001b[0m\u001b[0;34m]\u001b[0m\u001b[0;34m.\u001b[0m\u001b[0mmean\u001b[0m\u001b[0;34m(\u001b[0m\u001b[0;36m0\u001b[0m\u001b[0;34m)\u001b[0m\u001b[0;34m,\u001b[0m \u001b[0mpows\u001b[0m\u001b[0;34m=\u001b[0m\u001b[0mcurr_output\u001b[0m\u001b[0;34m[\u001b[0m\u001b[0;34m:\u001b[0m\u001b[0;34m,\u001b[0m\u001b[0;36m1\u001b[0m\u001b[0;34m]\u001b[0m\u001b[0;34m.\u001b[0m\u001b[0mmean\u001b[0m\u001b[0;34m(\u001b[0m\u001b[0;36m0\u001b[0m\u001b[0;34m)\u001b[0m\u001b[0;34m,\u001b[0m \u001b[0mpca_m\u001b[0m\u001b[0;34m=\u001b[0m\u001b[0mcurr_output\u001b[0m\u001b[0;34m[\u001b[0m\u001b[0;34m:\u001b[0m\u001b[0;34m,\u001b[0m\u001b[0;36m2\u001b[0m\u001b[0;34m]\u001b[0m\u001b[0;34m.\u001b[0m\u001b[0mmean\u001b[0m\u001b[0;34m(\u001b[0m\u001b[0;36m0\u001b[0m\u001b[0;34m)\u001b[0m\u001b[0;34m,\u001b[0m \u001b[0mspace_er\u001b[0m\u001b[0;34m=\u001b[0m\u001b[0mcurr_output\u001b[0m\u001b[0;34m[\u001b[0m\u001b[0;34m:\u001b[0m\u001b[0;34m,\u001b[0m\u001b[0;36m3\u001b[0m\u001b[0;34m]\u001b[0m\u001b[0;34m.\u001b[0m\u001b[0mmean\u001b[0m\u001b[0;34m(\u001b[0m\u001b[0;36m0\u001b[0m\u001b[0;34m)\u001b[0m\u001b[0;34m,\u001b[0m \u001b[0mft_m\u001b[0m\u001b[0;34m=\u001b[0m\u001b[0mcurr_output\u001b[0m\u001b[0;34m[\u001b[0m\u001b[0;34m:\u001b[0m\u001b[0;34m,\u001b[0m\u001b[0;36m4\u001b[0m\u001b[0;34m]\u001b[0m\u001b[0;34m.\u001b[0m\u001b[0mmean\u001b[0m\u001b[0;34m(\u001b[0m\u001b[0;36m0\u001b[0m\u001b[0;34m)\u001b[0m\u001b[0;34m,\u001b[0m \u001b[0mtime_er\u001b[0m\u001b[0;34m=\u001b[0m\u001b[0mcurr_output\u001b[0m\u001b[0;34m[\u001b[0m\u001b[0;34m:\u001b[0m\u001b[0;34m,\u001b[0m\u001b[0;36m5\u001b[0m\u001b[0;34m]\u001b[0m\u001b[0;34m.\u001b[0m\u001b[0mmean\u001b[0m\u001b[0;34m(\u001b[0m\u001b[0;36m0\u001b[0m\u001b[0;34m)\u001b[0m\u001b[0;34m,\u001b[0m \u001b[0mpearson_r\u001b[0m\u001b[0;34m=\u001b[0m\u001b[0mcurr_output\u001b[0m\u001b[0;34m[\u001b[0m\u001b[0;34m:\u001b[0m\u001b[0;34m,\u001b[0m\u001b[0;36m6\u001b[0m\u001b[0;34m]\u001b[0m\u001b[0;34m.\u001b[0m\u001b[0mmean\u001b[0m\u001b[0;34m(\u001b[0m\u001b[0;36m0\u001b[0m\u001b[0;34m)\u001b[0m\u001b[0;34m,\u001b[0m \u001b[0mspearman_rho\u001b[0m\u001b[0;34m=\u001b[0m\u001b[0mcurr_output\u001b[0m\u001b[0;34m[\u001b[0m\u001b[0;34m:\u001b[0m\u001b[0;34m,\u001b[0m\u001b[0;36m7\u001b[0m\u001b[0;34m]\u001b[0m\u001b[0;34m.\u001b[0m\u001b[0mmean\u001b[0m\u001b[0;34m(\u001b[0m\u001b[0;36m0\u001b[0m\u001b[0;34m)\u001b[0m\u001b[0;34m,\u001b[0m \u001b[0mpearson_p\u001b[0m\u001b[0;34m=\u001b[0m\u001b[0mcurr_output\u001b[0m\u001b[0;34m[\u001b[0m\u001b[0;34m:\u001b[0m\u001b[0;34m,\u001b[0m\u001b[0;36m8\u001b[0m\u001b[0;34m]\u001b[0m\u001b[0;34m.\u001b[0m\u001b[0mmean\u001b[0m\u001b[0;34m(\u001b[0m\u001b[0;36m0\u001b[0m\u001b[0;34m)\u001b[0m\u001b[0;34m,\u001b[0m \u001b[0mspearman_p\u001b[0m\u001b[0;34m=\u001b[0m\u001b[0mcurr_output\u001b[0m\u001b[0;34m[\u001b[0m\u001b[0;34m:\u001b[0m\u001b[0;34m,\u001b[0m\u001b[0;36m9\u001b[0m\u001b[0;34m]\u001b[0m\u001b[0;34m.\u001b[0m\u001b[0mmean\u001b[0m\u001b[0;34m(\u001b[0m\u001b[0;36m0\u001b[0m\u001b[0;34m)\u001b[0m\u001b[0;34m)\u001b[0m\u001b[0;34m\u001b[0m\u001b[0;34m\u001b[0m\u001b[0m\n\u001b[0m\u001b[1;32m     37\u001b[0m         \u001b[0;32melse\u001b[0m\u001b[0;34m:\u001b[0m\u001b[0;34m\u001b[0m\u001b[0;34m\u001b[0m\u001b[0m\n\u001b[1;32m     38\u001b[0m             \u001b[0;32mfor\u001b[0m \u001b[0mi\u001b[0m \u001b[0;32min\u001b[0m \u001b[0mrange\u001b[0m\u001b[0;34m(\u001b[0m\u001b[0mnum_trials\u001b[0m\u001b[0;34m)\u001b[0m\u001b[0;34m:\u001b[0m\u001b[0;34m\u001b[0m\u001b[0;34m\u001b[0m\u001b[0m\n",
      "\u001b[0;32m~/opt/anaconda3/lib/python3.7/site-packages/numpy/core/_methods.py\u001b[0m in \u001b[0;36m_mean\u001b[0;34m(a, axis, dtype, out, keepdims)\u001b[0m\n\u001b[1;32m    170\u001b[0m             \u001b[0mret\u001b[0m \u001b[0;34m=\u001b[0m \u001b[0mret\u001b[0m\u001b[0;34m.\u001b[0m\u001b[0mdtype\u001b[0m\u001b[0;34m.\u001b[0m\u001b[0mtype\u001b[0m\u001b[0;34m(\u001b[0m\u001b[0mret\u001b[0m \u001b[0;34m/\u001b[0m \u001b[0mrcount\u001b[0m\u001b[0;34m)\u001b[0m\u001b[0;34m\u001b[0m\u001b[0;34m\u001b[0m\u001b[0m\n\u001b[1;32m    171\u001b[0m     \u001b[0;32melse\u001b[0m\u001b[0;34m:\u001b[0m\u001b[0;34m\u001b[0m\u001b[0;34m\u001b[0m\u001b[0m\n\u001b[0;32m--> 172\u001b[0;31m         \u001b[0mret\u001b[0m \u001b[0;34m=\u001b[0m \u001b[0mret\u001b[0m \u001b[0;34m/\u001b[0m \u001b[0mrcount\u001b[0m\u001b[0;34m\u001b[0m\u001b[0;34m\u001b[0m\u001b[0m\n\u001b[0m\u001b[1;32m    173\u001b[0m \u001b[0;34m\u001b[0m\u001b[0m\n\u001b[1;32m    174\u001b[0m     \u001b[0;32mreturn\u001b[0m \u001b[0mret\u001b[0m\u001b[0;34m\u001b[0m\u001b[0;34m\u001b[0m\u001b[0m\n",
      "\u001b[0;31mTypeError\u001b[0m: unsupported operand type(s) for /: 'list' and 'int'"
     ]
    }
   ],
   "source": [
    "burn_in = 20\n",
    "output_dir = '../data/experiments/expTEST'\n",
    "ramsey_params = {'n_iters' : 3, 'n_pc' : 0.8, 'f_range' : [0,0.4]}\n",
    "num_trials = 2\n",
    "mouse_in = ['krebs']\n",
    "shuffle = ('space',4)\n",
    "\"\"\"\n",
    "ANALYSIS AS SCRIPT TO DEBUG\n",
    "\"\"\"\n",
    "#analysis + saving data \n",
    "for mouse_key in mouse_in:\n",
    "    mouse = mice_regions[mouse_key][0] #this is the data\n",
    "    for region in mice_regions[mouse_key][1]:\n",
    "\n",
    "        region_name = region[0]; region_count = region[1]\n",
    "        print(region_name)\n",
    "        os.makedirs(f'{output_dir}/{mouse_key}/{region_name}')\n",
    "\n",
    "        if region_name == 'all':\n",
    "            mouse_raster = mouse[0].iloc[burn_in:-burn_in]\n",
    "        else:\n",
    "            mouse_raster = mouse[0][mouse[1][region_name]].iloc[burn_in:-burn_in] #mouse[1] are indices\n",
    "\n",
    "        subsetsizes = np.linspace(30,region_count,16, dtype=int)\n",
    "\n",
    "        if shuffle:\n",
    "            for s in range(shuffle[1]):\n",
    "                curr_raster = analysis_pipe.shuffle_data(mouse_raster, shuffle[0]) \n",
    "                curr_output = {'eigs':[],'pows':[],'pca_m':[],'s_er':[],'ft_m':[],'t_er':[],'psn_r':[], 'spn_r':[], 'psn_p':[], 'spn_p':[]}\n",
    "                curr_output = []\n",
    "                for n in range(num_trials):\n",
    "                    eigs, pows, pca_m, s_er, ft_m, t_er, psn_r, spn_r, psn_p, spn_p = ramsey.ramsey(curr_raster, subsetsizes, **ramsey_params)\n",
    "                    curr_output.append([eigs, pows, pca_m, s_er, ft_m, t_er, psn_r, spn_r, psn_p, spn_p])\n",
    "                # AVG ACROSS TRIALS HERE\n",
    "                curr_output = np.array(curr_output)\n",
    "                np.savez(f'{output_dir}/{mouse_key}/{region_name}/ramsey_{s+1}', eigs=np.array([curr_output[:,0][i] for i in range(num_trials)]).mean(0),\n",
    "                                                                                 pows=np.array([curr_output[:,1][i] for i in range(num_trials)]).mean(0), \n",
    "                                                                                pca_m=curr_output[:,2].mean(0), space_er=curr_output[:,3].mean(0), ft_m=curr_output[:,4].mean(0), time_er=curr_output[:,5].mean(0), pearson_r=curr_output[:,6].mean(0), spearman_rho=curr_output[:,7].mean(0), pearson_p=curr_output[:,8].mean(0), spearman_p=curr_output[:,9].mean(0))\n",
    "        else:\n",
    "            for i in range(num_trials):\n",
    "                eigs, pows, pca_m, s_er, ft_m, t_er, psn_r, spn_r, psn_p, spn_p = ramsey.ramsey(mouse_raster, subsetsizes, **ramsey_params)\n",
    "                np.savez(f'{output_dir}/{mouse_key}/{region_name}/ramsey_{i+1}', eigs=eigs, pows=pows, pca_m=pca_m, space_er=s_er, ft_m=ft_m, time_er=t_er, pearson_r=psn_r, spearman_rho=spn_r, pearson_p=psn_p, spearman_p=spn_p)"
   ]
  },
  {
   "cell_type": "code",
   "execution_count": 56,
   "metadata": {
    "execution": {
     "iopub.execute_input": "2021-02-16T00:49:21.597692Z",
     "iopub.status.busy": "2021-02-16T00:49:21.596443Z",
     "iopub.status.idle": "2021-02-16T00:49:21.674408Z",
     "shell.execute_reply": "2021-02-16T00:49:21.672943Z",
     "shell.execute_reply.started": "2021-02-16T00:49:21.597597Z"
    }
   },
   "outputs": [
    {
     "data": {
      "text/plain": [
       "(3, 16)"
      ]
     },
     "execution_count": 56,
     "metadata": {},
     "output_type": "execute_result"
    }
   ],
   "source": [
    "curr_output[:,2][0].shape"
   ]
  },
  {
   "cell_type": "code",
   "execution_count": 50,
   "metadata": {
    "execution": {
     "iopub.execute_input": "2021-02-16T00:46:34.709915Z",
     "iopub.status.busy": "2021-02-16T00:46:34.709158Z",
     "iopub.status.idle": "2021-02-16T00:46:34.838045Z",
     "shell.execute_reply": "2021-02-16T00:46:34.833813Z",
     "shell.execute_reply.started": "2021-02-16T00:46:34.709584Z"
    }
   },
   "outputs": [
    {
     "data": {
      "text/plain": [
       "(16,)"
      ]
     },
     "execution_count": 50,
     "metadata": {},
     "output_type": "execute_result"
    }
   ],
   "source": [
    "curr_output[:,0].shape\n",
    "#[i.shape for i in curr_output[1][0]]\n",
    "#\n",
    "np.array([curr_output[:,0][i] for i in range(num_trials)]).mean(0).shape"
   ]
  },
  {
   "cell_type": "code",
   "execution_count": 43,
   "metadata": {
    "execution": {
     "iopub.execute_input": "2021-02-16T00:42:07.930838Z",
     "iopub.status.busy": "2021-02-16T00:42:07.930292Z",
     "iopub.status.idle": "2021-02-16T00:42:08.024875Z",
     "shell.execute_reply": "2021-02-16T00:42:08.020717Z",
     "shell.execute_reply.started": "2021-02-16T00:42:07.930592Z"
    }
   },
   "outputs": [
    {
     "data": {
      "text/plain": [
       "array([1.5, 2.5, 3.5])"
      ]
     },
     "execution_count": 43,
     "metadata": {},
     "output_type": "execute_result"
    }
   ],
   "source": [
    "np.array([[1,2,3],[2,3,4]]).mean(0)"
   ]
  },
  {
   "cell_type": "code",
   "execution_count": null,
   "metadata": {
    "execution": {
     "iopub.execute_input": "2021-02-16T00:17:25.320499Z",
     "iopub.status.busy": "2021-02-16T00:17:25.319987Z",
     "iopub.status.idle": "2021-02-16T00:19:04.677825Z",
     "shell.execute_reply": "2021-02-16T00:19:04.675193Z",
     "shell.execute_reply.started": "2021-02-16T00:17:25.320284Z"
    }
   },
   "outputs": [],
   "source": [
    "analysis_pipe.run_analysis(output_dir = '../data/experiments/expTEST',\n",
    "                           mice_regions = mice_regions,\n",
    "                           num_trials = 2,\n",
    "                            ramsey_params = {'n_iters' : 3, 'n_pc' : 0.8, 'f_range' : [0,0.4]},\n",
    "                            mouse_in = ['krebs'],\n",
    "                            shuffle = ('space',4))"
   ]
  },
  {
   "cell_type": "markdown",
   "metadata": {},
   "source": [
    "## Misc"
   ]
  },
  {
   "cell_type": "code",
   "execution_count": 7,
   "metadata": {},
   "outputs": [],
   "source": [
    "def load_data9(files = None, show_dir = False):\n",
    "    \"\"\" Load data from your data folder\n",
    "    If show_dir is True, displays a list of files in your directory.  Omits the extension.\n",
    "    If show_dir is False, assumes input is a string of format 'file1, file2 ...'\n",
    "    Only really works for .csv for now\n",
    "    \"\"\"\n",
    "    l = os.listdir('../data')\n",
    "    l.remove('.DS_Store')\n",
    "    if show_dir == True:\n",
    "        for i, x in enumerate(l):\n",
    "            x = x[:x.index('.')]\n",
    "            l[i] = x\n",
    "        print('Files in ../data: ', l)\n",
    "        files = input(\"Enter file name(s). Separate with commas for multiple files.  Enter 'all' (w/o quotes)  to load all \\n\")\n",
    "        print('Uploading...')\n",
    "        if files == 'all':\n",
    "            for z in l:\n",
    "                globals()[z] = pd.read_csv(\"../data/\"+ z +\".csv\", index_col = 0)\n",
    "            print('Done.')\n",
    "\n",
    "        else:\n",
    "            files = files.split(',')\n",
    "            files = [i.translate({ord(i):None for i in ' '}) for i in files] # takes out spaces\n",
    "\n",
    "            for z in files:\n",
    "                globals()[z] = pd.read_csv(\"../data/\"+ z +\".csv\", index_col = 0)\n",
    "            print('Done.')\n",
    "\n",
    "    if show_dir == False:\n",
    "        print('Uploading...')\n",
    "        if files == 'all':\n",
    "            for z in l:\n",
    "                globals()[z[:z.index('.')]] = pd.read_csv(\"../data/\"+ z, index_col = 0)\n",
    "            print('Done.')\n",
    "        else:\n",
    "            files = files.split(',')\n",
    "            files = [i.translate({ord(i):None for i in ' '}) for i in files] # takes out spaces\n",
    "            for z in files:\n",
    "                globals()[z] = pd.read_csv(\"../data/\"+ z +\".csv\", index_col = 0)\n",
    "            print('Done.')\n"
   ]
  },
  {
   "cell_type": "code",
   "execution_count": null,
   "metadata": {},
   "outputs": [],
   "source": []
  }
 ],
 "metadata": {
  "kernelspec": {
   "display_name": "Python 3",
   "language": "python",
   "name": "python3"
  },
  "language_info": {
   "codemirror_mode": {
    "name": "ipython",
    "version": 3
   },
   "file_extension": ".py",
   "mimetype": "text/x-python",
   "name": "python",
   "nbconvert_exporter": "python",
   "pygments_lexer": "ipython3",
   "version": "3.7.4"
  }
 },
 "nbformat": 4,
 "nbformat_minor": 4
}
