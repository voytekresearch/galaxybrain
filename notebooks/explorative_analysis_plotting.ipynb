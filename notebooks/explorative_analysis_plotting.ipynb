{
 "cells": [
  {
   "cell_type": "code",
   "execution_count": 1,
   "metadata": {
    "execution": {
     "iopub.execute_input": "2021-06-15T22:09:11.636020Z",
     "iopub.status.busy": "2021-06-15T22:09:11.633504Z",
     "iopub.status.idle": "2021-06-15T22:09:18.852250Z",
     "shell.execute_reply": "2021-06-15T22:09:18.851128Z",
     "shell.execute_reply.started": "2021-06-15T22:09:11.635835Z"
    }
   },
   "outputs": [],
   "source": [
    "%load_ext autoreload\n",
    "%autoreload 2\n",
    "%matplotlib inline\n",
    "\n",
    "import sys, os\n",
    "sys.path.append('../')\n",
    "import json\n",
    "\n",
    "import matplotlib.pyplot as plt\n",
    "import numpy as np\n",
    "import pandas as pd\n",
    "from scipy import stats\n",
    "from galaxybrain import ramsey \n",
    "from galaxybrain.data_utils import load_and_plot\n",
    "\n",
    "import warnings\n",
    "import matplotlib.cbook\n",
    "warnings.filterwarnings(\"ignore\",category=matplotlib.cbook.mplDeprecation)\n",
    "matplotlib.rc('figure', max_open_warning = 0)"
   ]
  },
  {
   "cell_type": "markdown",
   "metadata": {},
   "source": [
    "# This notebook is for investigating the results of analysis \n",
    "like correlation of subset size and average spectral exponent\n",
    "\n",
    "Some common parameters, before I was saving them as json\n",
    " - exp5: n_iters = 95; n_pc = 0.8; f_range = [0,0.4]; pc_range = [0,1.0]\n",
    " \n",
    "# Loading, Saving results"
   ]
  },
  {
   "cell_type": "code",
   "execution_count": 62,
   "metadata": {
    "execution": {
     "iopub.execute_input": "2021-06-16T02:58:26.280477Z",
     "iopub.status.busy": "2021-06-16T02:58:26.279550Z",
     "iopub.status.idle": "2021-06-16T02:59:18.117126Z",
     "shell.execute_reply": "2021-06-16T02:59:18.115585Z",
     "shell.execute_reply.started": "2021-06-16T02:58:26.280403Z"
    }
   },
   "outputs": [],
   "source": [
    "_=load_and_plot('../data/experiments/expSIM2', type_='sim', plot='../fig/ising')"
   ]
  },
  {
   "cell_type": "code",
   "execution_count": 41,
   "metadata": {
    "execution": {
     "iopub.execute_input": "2021-06-16T02:48:41.796646Z",
     "iopub.status.busy": "2021-06-16T02:48:41.796003Z",
     "iopub.status.idle": "2021-06-16T02:48:42.974590Z",
     "shell.execute_reply": "2021-06-16T02:48:42.973333Z",
     "shell.execute_reply.started": "2021-06-16T02:48:41.796581Z"
    }
   },
   "outputs": [],
   "source": [
    "data=load_and_plot('../data/experiments/expTIMESLOPE',mice=['krebs'], type_='mouse')\n",
    "data = data['krebs'][0] # 'all' index"
   ]
  },
  {
   "cell_type": "code",
   "execution_count": 82,
   "metadata": {
    "execution": {
     "iopub.execute_input": "2021-06-16T03:11:22.496684Z",
     "iopub.status.busy": "2021-06-16T03:11:22.496151Z",
     "iopub.status.idle": "2021-06-16T03:11:23.925684Z",
     "shell.execute_reply": "2021-06-16T03:11:23.924346Z",
     "shell.execute_reply.started": "2021-06-16T03:11:22.496619Z"
    }
   },
   "outputs": [
    {
     "name": "stderr",
     "output_type": "stream",
     "text": [
      "/Users/brianbarry/opt/anaconda3/lib/python3.7/site-packages/ipykernel_launcher.py:4: RuntimeWarning: divide by zero encountered in power\n",
      "  after removing the cwd from sys.path.\n"
     ]
    },
    {
     "data": {
      "text/plain": [
       "[<matplotlib.lines.Line2D at 0x7fe229da3fd0>]"
      ]
     },
     "execution_count": 82,
     "metadata": {},
     "output_type": "execute_result"
    },
    {
     "data": {
      "image/png": "[encoded data removed]",
      "text/plain": [
       "<Figure size 432x288 with 1 Axes>"
      ]
     },
     "metadata": {
      "needs_background": "light"
     },
     "output_type": "display_data"
    }
   ],
   "source": [
    "r_i = 11 # random index of subset size\n",
    "exp = data[2]['espec_exp'][:,r_i].mean(0)\n",
    "offset = data[2]['pca_b'][:,r_i].mean(0)\n",
    "model = lambda x: -offset*x**-exp\n",
    "eigs = data[2]['eigs'][r_i]\n",
    "x = np.arange(len(eigs))\n",
    "plt.loglog(x, model(x),color='red')\n",
    "plt.loglog(eigs,color='blue')"
   ]
  },
  {
   "cell_type": "code",
   "execution_count": 16,
   "metadata": {
    "execution": {
     "iopub.execute_input": "2021-03-31T18:36:56.422080Z",
     "iopub.status.busy": "2021-03-31T18:36:56.421404Z",
     "iopub.status.idle": "2021-03-31T18:37:57.248020Z",
     "shell.execute_reply": "2021-03-31T18:37:57.246540Z",
     "shell.execute_reply.started": "2021-03-31T18:36:56.422015Z"
    }
   },
   "outputs": [
    {
     "name": "stdout",
     "output_type": "stream",
     "text": [
      "Mouse 1\n",
      "Grabbing Spikes...\n",
      "Binning Spikes...\n",
      "[('CP', 176), ('FrMoCtx', 78), ('HPF', 265), ('LS', 122), ('MB', 127), ('SC', 42), ('SomMoCtx', 91), ('TH', 227), ('V1', 334)] Total: 1462\n",
      "Mouse 2\n",
      "Grabbing Spikes...\n",
      "Binning Spikes...\n",
      "[('FrCtx', 31), ('FrMoCtx', 647), ('HPF', 333), ('LS', 133), ('MB', 40), ('RSP', 112), ('SC', 98), ('SSCtx', 50), ('SomMoCtx', 220), ('TH', 638), ('UNK', 11), ('V1', 251), ('V2', 124)] Total: 2688\n",
      "Mouse 3\n",
      "Grabbing Spikes...\n",
      "Binning Spikes...\n",
      "[('CP', 134), ('FrMoCtx', 86), ('HPF', 155), ('LH', 4), ('LS', 4), ('RSP', 10), ('SomMoCtx', 10), ('TH', 1878), ('UNK', 15)] Total: 2296\n"
     ]
    }
   ],
   "source": [
    "                                ####################################################\n",
    "                                # (NOT NEEDED as of now) Run this to load raw data #\n",
    "                                ####################################################\n",
    "from galaxybrain.data_utils import load_mouse_data, return_pops\n",
    "datafolder = '../data/spikes/'\n",
    "\n",
    "all_mice = []\n",
    "for i_m in range(3):\n",
    "    print('Mouse ' + (str(i_m+1)))\n",
    "    all_mice.append([])\n",
    "    df_spk, df_info = load_mouse_data(datafolder, i_m, return_type='binned', bin_width=1)\n",
    "    region_indices = {}\n",
    "    for region in df_info.region.unique():\n",
    "        region_indices.update({region:np.where(df_info['region'] == str(region))[0]})\n",
    "        \n",
    "    spk_list, region_labels = return_pops(df_spk, df_info)\n",
    "    print(list(zip(region_labels, [s.shape[1] for s in spk_list])), 'Total:',sum([s.shape[1] for s in spk_list]))\n",
    "    \n",
    "    su_start_ind = len(region_labels)+1\n",
    "    \n",
    "    all_mice[i_m].append(df_spk[df_spk.columns[su_start_ind:]])\n",
    "    all_mice[i_m].append(region_indices)\n",
    "    \n",
    "krebs = all_mice[0]; robbins = all_mice[1]; waksman = all_mice[2]\n",
    "\n",
    "raster_dict = {'krebs': [krebs, [('all', 1462), ('CP', 176), ('HPF', 265), ('LS', 122), ('MB', 127), ('TH', 227), ('V1', 334)]],\n",
    "               'robbins': [robbins, [('all', 2688), ('FrMoCtx', 647), ('HPF', 333), ('LS', 133), ('RSP', 112), ('SomMoCtx', 220), ('TH', 638), ('V1', 251), ('V2', 124)]],\n",
    "               'waksman': [waksman, [('all', 2296), ('CP', 134), ('HPF', 155), ('TH', 1878)]] }\n",
    "burn_in = 20 #use for later things "
   ]
  },
  {
   "cell_type": "code",
   "execution_count": 38,
   "metadata": {
    "execution": {
     "iopub.execute_input": "2021-01-12T06:39:49.998105Z",
     "iopub.status.busy": "2021-01-12T06:39:49.997556Z",
     "iopub.status.idle": "2021-01-12T06:39:50.130066Z",
     "shell.execute_reply": "2021-01-12T06:39:50.128770Z",
     "shell.execute_reply.started": "2021-01-12T06:39:49.997998Z"
    }
   },
   "outputs": [
    {
     "data": {
      "text/plain": [
       "(1301, 1462)"
      ]
     },
     "execution_count": 38,
     "metadata": {},
     "output_type": "execute_result"
    }
   ],
   "source": [
    "data = raster_dict['krebs'][0][0]\n",
    "raster_curr.shape"
   ]
  },
  {
   "cell_type": "code",
   "execution_count": 92,
   "metadata": {
    "execution": {
     "iopub.execute_input": "2020-08-03T23:55:49.901199Z",
     "iopub.status.busy": "2020-08-03T23:55:49.900592Z",
     "iopub.status.idle": "2020-08-03T23:55:49.987770Z",
     "shell.execute_reply": "2020-08-03T23:55:49.985654Z",
     "shell.execute_reply.started": "2020-08-03T23:55:49.900895Z"
    }
   },
   "outputs": [
    {
     "data": {
      "text/plain": [
       "array([[ 0.23237682,  0.21879899,  0.08713606,  0.18678611,  0.30246361,\n",
       "         0.15464726,  0.28440649,  0.17529395,  0.00908455,  0.0193869 ,\n",
       "         0.02852744,  0.1825308 ,  0.30326148,  0.12628779, -0.06080627,\n",
       "                nan],\n",
       "       [ 0.12460806,  0.23283875,  0.31714726,  0.31461366,  0.16819709,\n",
       "         0.14347704,  0.25068589,  0.18255879,  0.16794513,  0.29400896,\n",
       "         0.27297032,  0.12393617,  0.03510638, -0.1225084 ,  0.19892217,\n",
       "                nan],\n",
       "       [ 0.24349104,  0.19839026,  0.14736842,  0.11620941,  0.26910694,\n",
       "         0.17635778,  0.09767637,  0.27411814,  0.05596305,  0.31871501,\n",
       "         0.13366461,  0.11891097,  0.18394457, -0.02919933, -0.09847424,\n",
       "                nan],\n",
       "       [ 0.07066069,  0.27413214,  0.2925252 ,  0.28159295,  0.2049972 ,\n",
       "         0.05942049,  0.14098544,  0.23954367,  0.21522956,  0.24101344,\n",
       "         0.22434211,  0.18202688,  0.17368421,  0.06804311,  0.15708287,\n",
       "                nan]])"
      ]
     },
     "execution_count": 92,
     "metadata": {},
     "output_type": "execute_result"
    }
   ],
   "source": [
    "#np.array([decomp_arr[i][4] for i in range(4)], dtype=float)\n",
    "np.array([pearson_r[i] for i in range(4)], dtype=float)"
   ]
  },
  {
   "cell_type": "markdown",
   "metadata": {},
   "source": [
    "## Correlating subset size and spectral exponent\n",
    "\n",
    "Calculate r (pearson, spearman) for each (mouse, region) and average (since for each datum shape is 2d, (95,16)) <br>\n",
    "Keep in mind each set of exponents is averaged across 4 trials (due to `decomp_arr[:,0 or 1].mean(0)`)"
   ]
  },
  {
   "cell_type": "code",
   "execution_count": 34,
   "metadata": {
    "execution": {
     "iopub.execute_input": "2020-12-30T22:54:36.960916Z",
     "iopub.status.busy": "2020-12-30T22:54:36.960059Z",
     "iopub.status.idle": "2020-12-30T22:54:38.682563Z",
     "shell.execute_reply": "2020-12-30T22:54:38.679928Z",
     "shell.execute_reply.started": "2020-12-30T22:54:36.960579Z"
    }
   },
   "outputs": [
    {
     "data": {
      "image/png": "[encoded data removed]",
      "text/plain": [
       "<Figure size 432x288 with 1 Axes>"
      ]
     },
     "metadata": {
      "needs_background": "light"
     },
     "output_type": "display_data"
    },
    {
     "data": {
      "image/png": "[encoded data removed]",
      "text/plain": [
       "<Figure size 432x288 with 1 Axes>"
      ]
     },
     "metadata": {
      "needs_background": "light"
     },
     "output_type": "display_data"
    }
   ],
   "source": [
    "ca = []\n",
    "for a in e_exp:\n",
    "    plt.scatter(subsetsizes, a)\n",
    "    ca.append(stats.pearsonr(subsetsizes, a)[1])\n",
    "plt.show()\n",
    "plt.hist(ca, bins=10)\n",
    "plt.show()"
   ]
  },
  {
   "cell_type": "code",
   "execution_count": 3,
   "metadata": {
    "execution": {
     "iopub.execute_input": "2020-12-31T21:34:49.046207Z",
     "iopub.status.busy": "2020-12-31T21:34:49.045409Z",
     "iopub.status.idle": "2020-12-31T21:35:00.441351Z",
     "shell.execute_reply": "2020-12-31T21:35:00.439843Z",
     "shell.execute_reply.started": "2020-12-31T21:34:49.045867Z"
    }
   },
   "outputs": [
    {
     "name": "stdout",
     "output_type": "stream",
     "text": [
      "Eigenspectrum: avg subset-exp correlation pearson r:-0.6349, p:0.0359, spearman r:-0.6553, p:0.0640\n",
      "PSD: avg subset-exp correlation pearson r:0.4077, p:0.1540, spearman r:0.4169, p:0.1823\n"
     ]
    }
   ],
   "source": [
    "mouse_means_eigx = {'pearson': ([],[]), 'spearman': ([],[])} # see below\n",
    "mouse_means_psdx = {'pearson': ([],[]), 'spearman': ([],[])} # stat means ([r], [p]) for each region in each mouse, to be averaged again later \n",
    "for mouse_key in ['krebs', 'robbins', 'waksman']:\n",
    "    for region in data_dict[mouse_key]:\n",
    "        region_name, region_count, data = region[0], region[1], region[2]\n",
    "        e_exp, p_exp = data['espec_exp'], data['psd_exp']\n",
    "        subsetsizes = data['subsetsizes']\n",
    "        espec_corr_array_curr = {'pearson': ([],[]), 'spearman': ([],[])}\n",
    "        psd_corr_array_curr = {'pearson': ([],[]), 'spearman': ([],[])} # each correlation's array will have a correlation array and a p-value array\n",
    "        for i in e_exp:\n",
    "            espec_corr_array_curr['pearson'][0].append(stats.pearsonr(subsetsizes, i)[0])\n",
    "            espec_corr_array_curr['pearson'][1].append(stats.pearsonr(subsetsizes, i)[1])\n",
    "            \n",
    "            espec_corr_array_curr['spearman'][0].append(stats.spearmanr(subsetsizes, i)[0])\n",
    "            espec_corr_array_curr['spearman'][1].append(stats.spearmanr(subsetsizes, i)[1])\n",
    "            \n",
    "        for i in p_exp:\n",
    "            psd_corr_array_curr['pearson'][0].append(stats.pearsonr(subsetsizes, i)[0])\n",
    "            psd_corr_array_curr['pearson'][1].append(stats.pearsonr(subsetsizes, i)[1])\n",
    "            \n",
    "            psd_corr_array_curr['spearman'][0].append(stats.spearmanr(subsetsizes, i)[0])\n",
    "            psd_corr_array_curr['spearman'][1].append(stats.spearmanr(subsetsizes, i)[1])\n",
    "        \n",
    "        region[2]['subset-exp correlation'] = {'espec': espec_corr_array_curr, 'psd': psd_corr_array_curr}\n",
    "        \n",
    "        #appending data for print statment below. Wow this is messy\n",
    "        mouse_means_eigx['pearson'][0].append(np.mean(espec_corr_array_curr['pearson'][0])); mouse_means_eigx['spearman'][0].append(np.mean(espec_corr_array_curr['spearman'][0]));\n",
    "        mouse_means_eigx['pearson'][1].append(np.mean(espec_corr_array_curr['pearson'][1])); mouse_means_eigx['spearman'][1].append(np.mean(espec_corr_array_curr['spearman'][1])) \n",
    "        \n",
    "        mouse_means_psdx['pearson'][0].append(np.mean(psd_corr_array_curr['pearson'][0])); mouse_means_psdx['spearman'][0].append(np.mean(psd_corr_array_curr['spearman'][0])) \n",
    "        mouse_means_psdx['pearson'][1].append(np.mean(psd_corr_array_curr['pearson'][1])); mouse_means_psdx['spearman'][1].append(np.mean(psd_corr_array_curr['spearman'][1])) \n",
    "\n",
    "e_p_m, e_p_p = np.mean(mouse_means_eigx['pearson'][0]), np.mean(mouse_means_eigx['pearson'][1]); e_s_m, e_s_p = np.mean(mouse_means_eigx['spearman'][0]), np.mean(mouse_means_eigx['spearman'][1])\n",
    "p_p_m, p_p_p = np.mean(mouse_means_psdx['pearson'][0]), np.mean(mouse_means_psdx['pearson'][1]); p_s_m, p_s_p = np.mean(mouse_means_psdx['spearman'][0]), np.mean(mouse_means_psdx['spearman'][1]) \n",
    "print('Eigenspectrum: avg subset-exp correlation pearson r:{:.4f}, p:{:.4f}, spearman r:{:.4f}, p:{:.4f}'.format(e_p_m, e_p_p, e_s_m, e_s_p))\n",
    "print('PSD: avg subset-exp correlation pearson r:{:.4f}, p:{:.4f}, spearman r:{:.4f}, p:{:.4f}'.format(p_p_m, p_p_p, p_s_m, p_s_p))"
   ]
  },
  {
   "cell_type": "code",
   "execution_count": 6,
   "metadata": {
    "execution": {
     "iopub.execute_input": "2020-12-31T21:38:36.358769Z",
     "iopub.status.busy": "2020-12-31T21:38:36.358092Z",
     "iopub.status.idle": "2020-12-31T21:38:37.483904Z",
     "shell.execute_reply": "2020-12-31T21:38:37.481071Z",
     "shell.execute_reply.started": "2020-12-31T21:38:36.358478Z"
    }
   },
   "outputs": [
    {
     "data": {
      "text/plain": [
       "<function matplotlib.pyplot.show(*args, **kw)>"
      ]
     },
     "execution_count": 6,
     "metadata": {},
     "output_type": "execute_result"
    },
    {
     "data": {
      "image/png": "[encoded data removed]",
      "text/plain": [
       "<Figure size 432x288 with 1 Axes>"
      ]
     },
     "metadata": {
      "needs_background": "light"
     },
     "output_type": "display_data"
    },
    {
     "data": {
      "image/png": "[encoded data removed]",
      "text/plain": [
       "<Figure size 432x288 with 1 Axes>"
      ]
     },
     "metadata": {
      "needs_background": "light"
     },
     "output_type": "display_data"
    }
   ],
   "source": [
    "plt.hist(mouse_means_eigx['pearson'][0], bins =15, color='g'); plt.show\n",
    "plt.figure()\n",
    "plt.hist(mouse_means_eigx['pearson'][1], bins =15, color='g'); plt.show\n"
   ]
  },
  {
   "cell_type": "markdown",
   "metadata": {},
   "source": [
    "# Power law fit\n",
    "\n",
    "goodness of power law fit increases, variability of goodness of fit decreases <br>\n",
    "VIZ: same idea: also look at avg r2, std dev"
   ]
  },
  {
   "cell_type": "code",
   "execution_count": 36,
   "metadata": {
    "execution": {
     "iopub.execute_input": "2021-01-04T22:53:04.943294Z",
     "iopub.status.busy": "2021-01-04T22:53:04.942506Z",
     "iopub.status.idle": "2021-01-04T22:53:05.027797Z",
     "shell.execute_reply": "2021-01-04T22:53:05.025327Z",
     "shell.execute_reply.started": "2021-01-04T22:53:04.942953Z"
    }
   },
   "outputs": [],
   "source": [
    "r2_metadata = {'eig':([],[]),'psd':([],[])}\n",
    "for mouse_key in ['krebs', 'robbins', 'waksman']:\n",
    "    for region in data_dict[mouse_key]:\n",
    "        data = region[2]\n",
    "        subsetsizes = data['subsetsizes']\n",
    "        e_r2, p_r2 = data['space_r2'], data['time_r2'] #goodness of fits\n",
    "        r2_metadata['eig'][0].append(e_r2.mean(0))\n",
    "        r2_metadata['eig'][1].append(e_r2.std(0))\n",
    "        \n",
    "        r2_metadata['psd'][0].append(p_r2.mean(0))\n",
    "        r2_metadata['psd'][1].append(p_r2.std(0))"
   ]
  },
  {
   "cell_type": "code",
   "execution_count": 52,
   "metadata": {
    "execution": {
     "iopub.execute_input": "2021-01-05T00:25:14.953494Z",
     "iopub.status.busy": "2021-01-05T00:25:14.952786Z",
     "iopub.status.idle": "2021-01-05T00:25:16.253856Z",
     "shell.execute_reply": "2021-01-05T00:25:16.252146Z",
     "shell.execute_reply.started": "2021-01-05T00:25:14.953219Z"
    }
   },
   "outputs": [
    {
     "data": {
      "text/plain": [
       "Text(0.5, 0.04, '% neurons')"
      ]
     },
     "execution_count": 52,
     "metadata": {},
     "output_type": "execute_result"
    },
    {
     "data": {
      "image/png": "[encoded data removed]",
      "text/plain": [
       "<Figure size 864x360 with 2 Axes>"
      ]
     },
     "metadata": {
      "needs_background": "light"
     },
     "output_type": "display_data"
    }
   ],
   "source": [
    "fig = plt.figure(figsize=(12,5))\n",
    "plt.subplot(1,2,1)\n",
    "plt.plot(np.linspace(0,100,16, dtype=int), np.array(r2_metadata['eig'][0]).mean(0), linewidth = 3)\n",
    "plt.plot(np.linspace(0,100,16, dtype=int), np.array(r2_metadata['psd'][0]).mean(0), linewidth = 3)\n",
    "plt.ylabel('Avg goodness of fit')\n",
    "\n",
    "plt.subplot(1,2,2)\n",
    "plt.plot(np.linspace(0,100,16, dtype=int), np.array(r2_metadata['eig'][1]).mean(0), linewidth = 3)\n",
    "plt.plot(np.linspace(0,100,16, dtype=int), np.array(r2_metadata['psd'][1]).mean(0), linewidth = 3)\n",
    "plt.ylabel('Avg std dev')\n",
    "plt.legend(labels = ['eig','psd'])\n",
    "fig.text(0.5, 0.04, '% neurons', ha='center')"
   ]
  }
 ],
 "metadata": {
  "kernelspec": {
   "display_name": "Python 3",
   "language": "python",
   "name": "python3"
  },
  "language_info": {
   "codemirror_mode": {
    "name": "ipython",
    "version": 3
   },
   "file_extension": ".py",
   "mimetype": "text/x-python",
   "name": "python",
   "nbconvert_exporter": "python",
   "pygments_lexer": "ipython3",
   "version": "3.7.4"
  }
 },
 "nbformat": 4,
 "nbformat_minor": 4
}
