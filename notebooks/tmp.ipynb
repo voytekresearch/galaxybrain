{
 "cells": [
  {
   "cell_type": "code",
   "execution_count": 1,
   "metadata": {},
   "outputs": [
    {
     "data": {
      "text/plain": [
       "{'data_type': 'ising',\n",
       " 'ramsey_kwargs': {'n_iter': 50,\n",
       "  'n_pc': 0.8,\n",
       "  'pc_range': [0, 0.1],\n",
       "  'f_range': [0, 0.01],\n",
       "  'parallel': True,\n",
       "  'ft_kwargs': {'fs': 1, 'nperseg': 2000, 'noverlap': 1600},\n",
       "  'fooof_kwargs': {'es': {'return_params': [['aperiodic_params', 'exponent'],\n",
       "     ['aperiodic_params', 'knee'],\n",
       "     ['error'],\n",
       "     ['aperiodic_params', 'offset']],\n",
       "    'fit_kwargs': {'aperiodic_mode': 'knee'}}}}}"
      ]
     },
     "execution_count": 1,
     "metadata": {},
     "output_type": "execute_result"
    }
   ],
   "source": [
    "import yaml\n",
    "\n",
    "with open('../pipeline_config.yaml', 'r') as f:\n",
    "    x = yaml.safe_load(f)\n",
    "\n",
    "x['analysis_args']['ising']"
   ]
  }
 ],
 "metadata": {
  "kernelspec": {
   "display_name": "base",
   "language": "python",
   "name": "python3"
  },
  "language_info": {
   "codemirror_mode": {
    "name": "ipython",
    "version": 3
   },
   "file_extension": ".py",
   "mimetype": "text/x-python",
   "name": "python",
   "nbconvert_exporter": "python",
   "pygments_lexer": "ipython3",
   "version": "3.9.13"
  },
  "orig_nbformat": 4
 },
 "nbformat": 4,
 "nbformat_minor": 2
}
