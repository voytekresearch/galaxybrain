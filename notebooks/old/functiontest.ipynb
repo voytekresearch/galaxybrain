{
 "cells": [
  {
   "cell_type": "code",
   "execution_count": 1,
   "metadata": {},
   "outputs": [],
   "source": [
    "import sys, os\n",
    "sys.path.append('../')\n",
    "import pandas as pd\n",
    "import galaxybrain.data_utils "
   ]
  },
  {
   "cell_type": "code",
   "execution_count": 7,
   "metadata": {},
   "outputs": [],
   "source": [
    "def load_data9(files = None, show_dir = False):\n",
    "    \"\"\" Load data from your data folder\n",
    "    If show_dir is True, displays a list of files in your directory.  Omits the extension.\n",
    "    If show_dir is False, assumes input is a string of format 'file1, file2 ...'\n",
    "    Only really works for .csv for now\n",
    "    \"\"\"\n",
    "    l = os.listdir('../data')\n",
    "    l.remove('.DS_Store')\n",
    "    if show_dir == True:\n",
    "        for i, x in enumerate(l):\n",
    "            x = x[:x.index('.')]\n",
    "            l[i] = x\n",
    "        print('Files in ../data: ', l)\n",
    "        files = input(\"Enter file name(s). Separate with commas for multiple files.  Enter 'all' (w/o quotes)  to load all \\n\")\n",
    "        print('Uploading...')\n",
    "        if files == 'all':\n",
    "            for z in l:\n",
    "                globals()[z] = pd.read_csv(\"../data/\"+ z +\".csv\", index_col = 0)\n",
    "            print('Done.')\n",
    "\n",
    "        else:\n",
    "            files = files.split(',')\n",
    "            files = [i.translate({ord(i):None for i in ' '}) for i in files] # takes out spaces\n",
    "\n",
    "            for z in files:\n",
    "                globals()[z] = pd.read_csv(\"../data/\"+ z +\".csv\", index_col = 0)\n",
    "            print('Done.')\n",
    "\n",
    "    if show_dir == False:\n",
    "        print('Uploading...')\n",
    "        if files == 'all':\n",
    "            for z in l:\n",
    "                globals()[z[:z.index('.')]] = pd.read_csv(\"../data/\"+ z, index_col = 0)\n",
    "            print('Done.')\n",
    "        else:\n",
    "            files = files.split(',')\n",
    "            files = [i.translate({ord(i):None for i in ' '}) for i in files] # takes out spaces\n",
    "            for z in files:\n",
    "                globals()[z] = pd.read_csv(\"../data/\"+ z +\".csv\", index_col = 0)\n",
    "            print('Done.')\n"
   ]
  },
  {
   "cell_type": "code",
   "execution_count": null,
   "metadata": {},
   "outputs": [],
   "source": []
  }
 ],
 "metadata": {
  "kernelspec": {
   "display_name": "Python 3",
   "language": "python",
   "name": "python3"
  },
  "language_info": {
   "codemirror_mode": {
    "name": "ipython",
    "version": 3
   },
   "file_extension": ".py",
   "mimetype": "text/x-python",
   "name": "python",
   "nbconvert_exporter": "python",
   "pygments_lexer": "ipython3",
   "version": "3.7.4"
  }
 },
 "nbformat": 4,
 "nbformat_minor": 2
}
